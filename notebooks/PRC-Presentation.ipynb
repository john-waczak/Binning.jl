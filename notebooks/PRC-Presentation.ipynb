{
 "cells": [
  {
   "cell_type": "markdown",
   "metadata": {
    "slideshow": {
     "slide_type": "notes"
    }
   },
   "source": [
    "To generate a presentation from these slides, run: \n",
    "\n",
    "`jupyter nbconvert PRC-presentation.ipynb --to slides --post serve SlidesExporter.reveal_theme=serif SlidesExporter.reveal_scroll=True SlidesExporter.reveal_transition=none`  \n"
   ]
  },
  {
   "cell_type": "markdown",
   "metadata": {
    "slideshow": {
     "slide_type": "slide"
    }
   },
   "source": [
    "# PRC: Implementing a Novel Machine Learning Method in Julia\n",
    "## John Waczak \n",
    "## May 4 2021"
   ]
  },
  {
   "cell_type": "markdown",
   "metadata": {
    "slideshow": {
     "slide_type": "slide"
    }
   },
   "source": [
    "# Outline \n",
    "1. Problem Description \n",
    "2. Implementation Details \n",
    "3. Model Application\n",
    "4. Next Steps\n",
    "5. What Worked and What Didn't \n",
    "6. Lessons Learned \n",
    "7. Topics Suggestions"
   ]
  },
  {
   "attachments": {},
   "cell_type": "markdown",
   "metadata": {
    "slideshow": {
     "slide_type": "slide"
    }
   },
   "source": [
    "# 1. Problem Description\n",
    "\n",
    "- **Abstract Problem**: Machine learning, particularly deep neural networks, tend to be black box solutions. It's hard to understand what exactly is happening to your data. \n",
    "- **Specific Research Problem**: Using frequency decomposition of 64 electrode EEG measurements to predict blinking, specifically, eye aspect ratio (EAR) \n",
    "- **Solution**: Develop a new neural network layer based on a simple binning procedure"
   ]
  },
  {
   "cell_type": "markdown",
   "metadata": {
    "slideshow": {
     "slide_type": "subslide"
    }
   },
   "source": [
    "Partition the domain of your function into $N$ bins with $N+1$ bin edges. Model a bin by a smooth step function: \n",
    "\\begin{equation}\n",
    "    B(x) = \\frac{1}{2}\\left(\\tanh(\\alpha(x-b_l))-\\tanh(\\alpha(x-b_r)) \\right)\n",
    "\\end{equation} \n",
    "where $\\alpha$ controlls the steepness (a hyperparameter) and $b_l$ and $b_r$ are the left and right bin bin edges, respectively. \n",
    "\n",
    "Action of the layer is as follows: \n",
    "\n",
    "<img src=\"./images/binningAction.svg\" style=\"width: 1000px;\"/>    "
   ]
  },
  {
   "attachments": {},
   "cell_type": "markdown",
   "metadata": {
    "slideshow": {
     "slide_type": "slide"
    }
   },
   "source": [
    "# 2. Implementation Details\n",
    "\n",
    "**Language of choice:** `Julia`  \n",
    "**Why?** The neural network library in Julia, `Flux.jl`, is implemented **100%** in Julia: \n",
    "\n",
    "![](./images/fluxGithub.png)\n"
   ]
  },
  {
   "cell_type": "markdown",
   "metadata": {
    "slideshow": {
     "slide_type": "subslide"
    }
   },
   "source": [
    "Popular libraries like tensorflow are built on top of lower level C++ implementations. This makes it harder to implement new models. \n",
    "\n",
    "![](./images/tensorflowGithub.png)"
   ]
  },
  {
   "cell_type": "markdown",
   "metadata": {
    "slideshow": {
     "slide_type": "subslide"
    }
   },
   "source": [
    "## Summary: \n",
    "- Binning layer implemented in Julia by extending `Flux.jl` \n",
    "- Code version controlled via `github` and `gitlab`\n",
    "- Package envrionment managed via Julia, i.e. we version control the `Project.toml` and `Manifest.toml` files. This is similar to the Conda environments we talked about in class. \n",
    "- Code organized into standard package structure via templates from `PkgTemplates.jl` \n",
    "- Added fancy docstrings to allow for `help` lookup at the REPL \n",
    "- Began writing tests that are stored in `/tests/`\n",
    "- CI/CD implemented via Travis.ci by adding a simple `.travis.yaml` file "
   ]
  },
  {
   "cell_type": "markdown",
   "metadata": {
    "slideshow": {
     "slide_type": "subslide"
    }
   },
   "source": [
    "## Easy package install from github \n",
    "\n",
    "![](./images/packageInstall2.gif)"
   ]
  },
  {
   "cell_type": "markdown",
   "metadata": {
    "slideshow": {
     "slide_type": "subslide"
    }
   },
   "source": [
    "## Environment Management\n",
    "\n",
    "![](./images/environmentActivation.gif)"
   ]
  },
  {
   "cell_type": "markdown",
   "metadata": {
    "slideshow": {
     "slide_type": "subslide"
    }
   },
   "source": [
    "## Help from fancy dosctrings \n",
    "\n",
    "![](./images/helpDemo.gif)"
   ]
  },
  {
   "cell_type": "markdown",
   "metadata": {
    "slideshow": {
     "slide_type": "subslide"
    }
   },
   "source": [
    "## Running Tests \n",
    "\n",
    "![](./images/testSuite.gif)"
   ]
  },
  {
   "cell_type": "markdown",
   "metadata": {
    "slideshow": {
     "slide_type": "subslide"
    }
   },
   "source": [
    "## CI/CD via Travis\n",
    "\n",
    "![](./images/travis.png)"
   ]
  },
  {
   "cell_type": "markdown",
   "metadata": {
    "slideshow": {
     "slide_type": "slide"
    }
   },
   "source": [
    "# 3. Model Application \n",
    "\n",
    "**Demo Problem**: bin optimization for maintaining integral.  \n",
    "- Sample sine wave from $x=0$ to $x=10$ with $1000$ points \n",
    "- Use `DomainBinner` to bin the 1000 points down to 20 \n",
    "- Optimize bin edges to maintain the value of the integral\n",
    "\n",
    "\n",
    "![](./images/trained_bin_comparison.svg)"
   ]
  },
  {
   "cell_type": "markdown",
   "metadata": {
    "slideshow": {
     "slide_type": "subslide"
    }
   },
   "source": [
    "**Problem 2**: Predicting Eye Aspect Ratio (EAR) value from binned EEG frequency data.  \n",
    "\n",
    "**Model**: Binning layer to reduce 257 frequencies down to 100. Output of binning layer connected to a dense layer with 100 nodes. The dense nodes are then connected to estimate the Ear value\n",
    "\n",
    "![](./images/binningModel.svg)"
   ]
  },
  {
   "cell_type": "markdown",
   "metadata": {
    "slideshow": {
     "slide_type": "subslide"
    }
   },
   "source": [
    "### Results so far\n",
    "- The `DomainBinner` is able to function together with the `Dense` layer *out of the box* via the `Chain()` function\n",
    "- `Flux` is able to track the gradients as expected and update the bin edges \n",
    "- A single electrode is insufficient to predict the EAR value (as expected) \n",
    "\n",
    "\n",
    "![](./images/Avg-EAR3.png)"
   ]
  },
  {
   "cell_type": "markdown",
   "metadata": {
    "slideshow": {
     "slide_type": "subslide"
    }
   },
   "source": [
    "Output of evaluation scripts are captured and converted into nice human readable html/markdown documents using `Weave.jl`. \n",
    "\n",
    "![](./images/weaveDemo.png)"
   ]
  },
  {
   "cell_type": "markdown",
   "metadata": {
    "slideshow": {
     "slide_type": "slide"
    }
   },
   "source": [
    "# 4. Next Steps\n",
    "- Create slurm scritps to train models on Europa \n",
    "- Train more reliable models by utilizing multiple electrodes simultaneously  \n",
    "- Perform a hyperparamter optimization (number of bins, number of nodes in hidden layer, etc...) \n",
    "- Apply binning layer to frequency dimension of Hyper-Spectral Images \n",
    "- Explore using tensorboard for live tracking of model convergence \n",
    "- Optimize the code for performance (I think Julia is actually column-major, unlike Python so I should probably transpose my data for faster training...) \n",
    "- If this actually proves usefull, submit a PR and add the layer to the `Flux` ecosystem. "
   ]
  },
  {
   "cell_type": "markdown",
   "metadata": {
    "slideshow": {
     "slide_type": "slide"
    }
   },
   "source": [
    "# 5. How did you start? What worked? What didn't work? \n",
    "- Started development of layer via notebooks \n",
    "- The documentation for `Flux.jl` was super helpful for making a new layer that works with the package\n",
    "- Had issues early on trying to get the auto-diff to work on batches of data. \n",
    "- Had trouble coming up with a simple toy problem to test the model on. Eventually was able to settle on the integraal test. "
   ]
  },
  {
   "cell_type": "markdown",
   "metadata": {
    "slideshow": {
     "slide_type": "slide"
    }
   },
   "source": [
    "# 6. Lessons Learned \n",
    "The two big takeaways for me were: \n",
    "- I'm finally starting to appreciate the value of writing tests for everything. This was super helpful when I was trying to get the auto-diff to work on batches of data. It also helped me catch when I made code-breaking changes (specifically array shape related issues). \n",
    "- Using new environments for new projects. This was super helpful for verifying that the code works across multiple machines. "
   ]
  },
  {
   "cell_type": "markdown",
   "metadata": {
    "slideshow": {
     "slide_type": "slide"
    }
   },
   "source": [
    "# 7. Topic Suggestions \n",
    "- The version control tutorials were super helpful. It would be nice to add some additional content for the proper way to contribute to larger codes you don't own. Maybe you could add forking and submitting pull requests to the git homework assignment. \n",
    "- I would personally be interested in a lecture on containers. I've had plenty of issues trying to work across multiple operating systems and I think this could help. "
   ]
  },
  {
   "cell_type": "code",
   "execution_count": null,
   "metadata": {},
   "outputs": [],
   "source": []
  }
 ],
 "metadata": {
  "celltoolbar": "Slideshow",
  "kernelspec": {
   "display_name": "Julia 1.6.0",
   "language": "julia",
   "name": "julia-1.6"
  },
  "language_info": {
   "file_extension": ".jl",
   "mimetype": "application/julia",
   "name": "julia",
   "version": "1.6.0"
  }
 },
 "nbformat": 4,
 "nbformat_minor": 2
}
