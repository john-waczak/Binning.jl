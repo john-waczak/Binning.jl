{
 "cells": [
  {
   "cell_type": "code",
   "execution_count": 1,
   "metadata": {},
   "outputs": [],
   "source": [
    "using CSV"
   ]
  },
  {
   "cell_type": "code",
   "execution_count": 2,
   "metadata": {},
   "outputs": [
    {
     "data": {
      "text/plain": [
       "\"./data/\""
      ]
     },
     "execution_count": 2,
     "metadata": {},
     "output_type": "execute_result"
    }
   ],
   "source": [
    "csvPath = \"./BinningTimetable.csv\"\n",
    "dataDir = \"./data/\""
   ]
  },
  {
   "cell_type": "code",
   "execution_count": 3,
   "metadata": {},
   "outputs": [
    {
     "data": {
      "text/plain": [
       "\"\""
      ]
     },
     "execution_count": 3,
     "metadata": {},
     "output_type": "execute_result"
    }
   ],
   "source": [
    "firstLine = \"\""
   ]
  },
  {
   "cell_type": "code",
   "execution_count": 4,
   "metadata": {},
   "outputs": [],
   "source": [
    "ctr = 0 \n",
    "open(csvPath) do f\n",
    "    while ctr < 1\n",
    "        line = readline(f) \n",
    "        global firstLine = line\n",
    "        global ctr += 1\n",
    "    end\n",
    "end"
   ]
  },
  {
   "cell_type": "code",
   "execution_count": 5,
   "metadata": {},
   "outputs": [
    {
     "data": {
      "text/plain": [
       "16454-element Vector{SubString{String}}:\n",
       " \"Datetime\"\n",
       " \"Fp1_freq_0Hz\"\n",
       " \"Fp1_freq_0_9765625Hz\"\n",
       " \"Fp1_freq_1_953125Hz\"\n",
       " \"Fp1_freq_2_929688Hz\"\n",
       " \"Fp1_freq_3_90625Hz\"\n",
       " \"Fp1_freq_4_882812Hz\"\n",
       " \"Fp1_freq_5_859375Hz\"\n",
       " \"Fp1_freq_6_835938Hz\"\n",
       " \"Fp1_freq_7_8125Hz\"\n",
       " \"Fp1_freq_8_789062Hz\"\n",
       " \"Fp1_freq_9_765625Hz\"\n",
       " \"Fp1_freq_10_74219Hz\"\n",
       " ⋮\n",
       " \"TP10_freq_244_1406Hz\"\n",
       " \"TP10_freq_245_1172Hz\"\n",
       " \"TP10_freq_246_0938Hz\"\n",
       " \"TP10_freq_247_0703Hz\"\n",
       " \"TP10_freq_248_0469Hz\"\n",
       " \"TP10_freq_249_0234Hz\"\n",
       " \"TP10_freq_250Hz\"\n",
       " \"Blink_Flag\"\n",
       " \"Cumulative_NumBlinks\"\n",
       " \"Left_EAR\"\n",
       " \"Right_EAR\"\n",
       " \"EAR_Avg\""
      ]
     },
     "execution_count": 5,
     "metadata": {},
     "output_type": "execute_result"
    }
   ],
   "source": [
    "columnIDs = split(firstLine, \",\")"
   ]
  },
  {
   "cell_type": "code",
   "execution_count": 20,
   "metadata": {},
   "outputs": [
    {
     "name": "stdout",
     "output_type": "stream",
     "text": [
      "Blink_Flag\n",
      "Cumulative_NumBlinks\n",
      "Left_EAR\n",
      "Right_EAR\n",
      "EAR_Avg\n"
     ]
    }
   ],
   "source": [
    "println(columnIDs[16450])\n",
    "println(columnIDs[16451])\n",
    "println(columnIDs[16452])\n",
    "println(columnIDs[16453])\n",
    "println(columnIDs[16454])"
   ]
  },
  {
   "cell_type": "code",
   "execution_count": 6,
   "metadata": {},
   "outputs": [
    {
     "data": {
      "text/plain": [
       "2:16449"
      ]
     },
     "execution_count": 6,
     "metadata": {},
     "output_type": "execute_result"
    }
   ],
   "source": [
    "dataCols = columnIDs[2:end-5]\n",
    "data_idx = 2:1+length(dataCols)"
   ]
  },
  {
   "cell_type": "markdown",
   "metadata": {},
   "source": [
    "now we should check the frequencies for duplicates "
   ]
  },
  {
   "cell_type": "code",
   "execution_count": 7,
   "metadata": {},
   "outputs": [
    {
     "data": {
      "text/plain": [
       "64-element Vector{SubString{String}}:\n",
       " \"Fp1\"\n",
       " \"Fp2\"\n",
       " \"F3\"\n",
       " \"F4\"\n",
       " \"C3\"\n",
       " \"C4\"\n",
       " \"P3\"\n",
       " \"P4\"\n",
       " \"O1\"\n",
       " \"O2\"\n",
       " \"F7\"\n",
       " \"F8\"\n",
       " \"T7\"\n",
       " ⋮\n",
       " \"AF7\"\n",
       " \"AF8\"\n",
       " \"FT7\"\n",
       " \"FT8\"\n",
       " \"TP7\"\n",
       " \"TP8\"\n",
       " \"PO7\"\n",
       " \"PO8\"\n",
       " \"Fpz\"\n",
       " \"CPz\"\n",
       " \"POz\"\n",
       " \"TP10\""
      ]
     },
     "execution_count": 7,
     "metadata": {},
     "output_type": "execute_result"
    }
   ],
   "source": [
    "nodeIDs = [split(col, \"_\")[1] for col ∈ dataCols]\n",
    "unique!(nodeIDs)"
   ]
  },
  {
   "cell_type": "code",
   "execution_count": 10,
   "metadata": {},
   "outputs": [
    {
     "data": {
      "text/plain": [
       "257-element Vector{Any}:\n",
       " \"0Hz\"\n",
       " \"0.9765625Hz\"\n",
       " \"1.953125Hz\"\n",
       " \"2.929688Hz\"\n",
       " \"3.90625Hz\"\n",
       " \"4.882812Hz\"\n",
       " \"5.859375Hz\"\n",
       " \"6.835938Hz\"\n",
       " \"7.8125Hz\"\n",
       " \"8.789062Hz\"\n",
       " \"9.765625Hz\"\n",
       " \"10.74219Hz\"\n",
       " \"11.71875Hz\"\n",
       " ⋮\n",
       " \"239.2578Hz\"\n",
       " \"240.2344Hz\"\n",
       " \"241.2109Hz\"\n",
       " \"242.1875Hz\"\n",
       " \"243.1641Hz\"\n",
       " \"244.1406Hz\"\n",
       " \"245.1172Hz\"\n",
       " \"246.0938Hz\"\n",
       " \"247.0703Hz\"\n",
       " \"248.0469Hz\"\n",
       " \"249.0234Hz\"\n",
       " \"250Hz\""
      ]
     },
     "execution_count": 10,
     "metadata": {},
     "output_type": "execute_result"
    }
   ],
   "source": [
    "freqVals = []\n",
    "for datum in dataCols\n",
    "    splitLine = split(datum, \"_\")\n",
    "    if length(splitLine) == 3\n",
    "        push!(freqVals, splitLine[end])\n",
    "    else\n",
    "        freq = join(splitLine[end-1:end], \".\")\n",
    "        push!(freqVals, freq)\n",
    "    end\n",
    "    \n",
    "end\n",
    "\n",
    "freqs = unique(freqVals)"
   ]
  },
  {
   "cell_type": "markdown",
   "metadata": {},
   "source": [
    "So there are 257 frequencies for each electrode. Now let's make a dictionary to help us generate the data files. "
   ]
  },
  {
   "cell_type": "code",
   "execution_count": 16,
   "metadata": {},
   "outputs": [
    {
     "name": "stdout",
     "output_type": "stream",
     "text": [
      "Fp1\n",
      "Fp2\n",
      "F3\n",
      "F4\n",
      "C3\n",
      "C4\n",
      "P3\n",
      "P4\n",
      "O1\n",
      "O2\n",
      "F7\n",
      "F8\n",
      "T7\n",
      "T8\n",
      "P7\n",
      "P8\n",
      "Fz\n",
      "Cz\n",
      "Pz\n",
      "Oz\n",
      "FC1\n",
      "FC2\n",
      "CP1\n",
      "CP2\n",
      "FC5\n",
      "FC6\n",
      "CP5\n",
      "CP6\n",
      "FT9\n",
      "FT10\n",
      "FCz\n",
      "AFz\n",
      "F1\n",
      "F2\n",
      "C1\n",
      "C2\n",
      "P1\n",
      "P2\n",
      "AF3\n",
      "AF4\n",
      "FC3\n",
      "FC4\n",
      "CP3\n",
      "CP4\n",
      "PO3\n",
      "PO4\n",
      "F5\n",
      "F6\n",
      "C5\n",
      "C6\n",
      "P5\n",
      "P6\n",
      "AF7\n",
      "AF8\n",
      "FT7\n",
      "FT8\n",
      "TP7\n",
      "TP8\n",
      "PO7\n",
      "PO8\n",
      "Fpz\n",
      "CPz\n",
      "POz\n",
      "TP10\n"
     ]
    }
   ],
   "source": [
    "labelDict = Dict() \n",
    "idx = 2 \n",
    "idx_ct = 257 \n",
    "for node ∈ nodeIDs\n",
    "    println(node)\n",
    "    labelDict[node] = [idx:(idx+idx_ct-1), freqs]\n",
    "    idx += idx_ct\n",
    "end"
   ]
  },
  {
   "cell_type": "code",
   "execution_count": 17,
   "metadata": {},
   "outputs": [
    {
     "data": {
      "text/plain": [
       "257-element Vector{SubString{String}}:\n",
       " \"TP10_freq_0Hz\"\n",
       " \"TP10_freq_0_9765625Hz\"\n",
       " \"TP10_freq_1_953125Hz\"\n",
       " \"TP10_freq_2_929688Hz\"\n",
       " \"TP10_freq_3_90625Hz\"\n",
       " \"TP10_freq_4_882812Hz\"\n",
       " \"TP10_freq_5_859375Hz\"\n",
       " \"TP10_freq_6_835938Hz\"\n",
       " \"TP10_freq_7_8125Hz\"\n",
       " \"TP10_freq_8_789062Hz\"\n",
       " \"TP10_freq_9_765625Hz\"\n",
       " \"TP10_freq_10_74219Hz\"\n",
       " \"TP10_freq_11_71875Hz\"\n",
       " ⋮\n",
       " \"TP10_freq_239_2578Hz\"\n",
       " \"TP10_freq_240_2344Hz\"\n",
       " \"TP10_freq_241_2109Hz\"\n",
       " \"TP10_freq_242_1875Hz\"\n",
       " \"TP10_freq_243_1641Hz\"\n",
       " \"TP10_freq_244_1406Hz\"\n",
       " \"TP10_freq_245_1172Hz\"\n",
       " \"TP10_freq_246_0938Hz\"\n",
       " \"TP10_freq_247_0703Hz\"\n",
       " \"TP10_freq_248_0469Hz\"\n",
       " \"TP10_freq_249_0234Hz\"\n",
       " \"TP10_freq_250Hz\""
      ]
     },
     "execution_count": 17,
     "metadata": {},
     "output_type": "execute_result"
    }
   ],
   "source": [
    "# test that the indices work. \n",
    "columnIDs[labelDict[\"TP10\"][1]]"
   ]
  },
  {
   "cell_type": "markdown",
   "metadata": {},
   "source": [
    "loop through csv and make new files for each node"
   ]
  },
  {
   "cell_type": "code",
   "execution_count": 37,
   "metadata": {},
   "outputs": [],
   "source": [
    "f = open(\"test.txt\", \"a\")\n",
    "println(f, \"test\")\n",
    "close(f)"
   ]
  },
  {
   "cell_type": "code",
   "execution_count": 38,
   "metadata": {},
   "outputs": [],
   "source": [
    "open(csvPath) do f\n",
    "    # read till end of file\n",
    "    while ! eof(f)\n",
    "        s = readline(f) \n",
    "        data = split(s, \",\") \n",
    "        outDict = Dict() \n",
    "        \n",
    "        DateTime = data[1] \n",
    "        BlinkFlag = data[16450]\n",
    "        Cumulative_NumBlinks = data[16451]\n",
    "        Left_EAR = data[16452] \n",
    "        Right_EAR = data[16453]\n",
    "        EAR_Avg = data[16454]\n",
    " \n",
    "        \n",
    "        # generate dict with the value to append to each file. \n",
    "        for (key, value) in labelDict\n",
    "            save_data = data[value[1]]\n",
    "            push!(save_data, DateTime)\n",
    "            push!(save_data, BlinkFlag)\n",
    "            push!(save_data, Cumulative_NumBlinks)\n",
    "            push!(save_data, Left_EAR)\n",
    "            push!(save_data, Right_EAR) \n",
    "            push!(save_data, EAR_Avg)\n",
    "            outDict[key] = join(save_data, \",\") \n",
    "        end\n",
    "        \n",
    "        # loop through files and append new data \n",
    "        for (key, value) in outDict\n",
    "            filePath = \"./data/\"*key*\".csv\"\n",
    "            f_csv = open(filePath, \"a\") \n",
    "            println(f_csv, value)\n",
    "            close(f_csv)\n",
    "        end\n",
    "        \n",
    "        \n",
    "    end\n",
    "end"
   ]
  },
  {
   "cell_type": "markdown",
   "metadata": {},
   "source": [
    "Now let's try to load one of the CSV files in"
   ]
  },
  {
   "cell_type": "code",
   "execution_count": 42,
   "metadata": {},
   "outputs": [],
   "source": [
    "using DataFrames, CSV"
   ]
  },
  {
   "cell_type": "code",
   "execution_count": 48,
   "metadata": {},
   "outputs": [
    {
     "data": {
      "text/html": [
       "<table class=\"data-frame\"><thead><tr><th></th><th>Oz_freq_0Hz</th><th>Oz_freq_0_9765625Hz</th><th>Oz_freq_1_953125Hz</th><th>Oz_freq_2_929688Hz</th><th>Oz_freq_3_90625Hz</th></tr><tr><th></th><th>Float64</th><th>Float64</th><th>Float64</th><th>Float64</th><th>Float64</th></tr></thead><tbody><p>33,094 rows × 263 columns (omitted printing of 258 columns)</p><tr><th>1</th><td>2.96607e8</td><td>1.17803e8</td><td>11148.5</td><td>213.96</td><td>2336.42</td></tr><tr><th>2</th><td>2.96603e8</td><td>1.17803e8</td><td>11154.7</td><td>211.555</td><td>2340.26</td></tr><tr><th>3</th><td>2.96599e8</td><td>1.17803e8</td><td>11175.0</td><td>211.271</td><td>2338.25</td></tr><tr><th>4</th><td>2.96594e8</td><td>1.17802e8</td><td>11206.9</td><td>213.427</td><td>2332.51</td></tr><tr><th>5</th><td>2.96588e8</td><td>1.17802e8</td><td>11249.5</td><td>217.809</td><td>2324.85</td></tr><tr><th>6</th><td>2.96582e8</td><td>1.178e8</td><td>11299.6</td><td>223.96</td><td>2317.49</td></tr><tr><th>7</th><td>2.96575e8</td><td>1.17798e8</td><td>11356.0</td><td>230.965</td><td>2310.92</td></tr><tr><th>8</th><td>2.96568e8</td><td>1.17796e8</td><td>11406.7</td><td>239.1</td><td>2308.89</td></tr><tr><th>9</th><td>2.9656e8</td><td>1.17793e8</td><td>11452.2</td><td>246.736</td><td>2308.4</td></tr><tr><th>10</th><td>2.96552e8</td><td>1.17789e8</td><td>11489.9</td><td>252.802</td><td>2307.28</td></tr><tr><th>11</th><td>2.96544e8</td><td>1.17785e8</td><td>11511.2</td><td>257.356</td><td>2306.31</td></tr><tr><th>12</th><td>2.96535e8</td><td>1.17779e8</td><td>11512.9</td><td>259.998</td><td>2305.23</td></tr><tr><th>13</th><td>2.96526e8</td><td>1.17773e8</td><td>11499.2</td><td>259.698</td><td>2301.85</td></tr><tr><th>14</th><td>2.96516e8</td><td>1.17766e8</td><td>11462.6</td><td>257.579</td><td>2300.83</td></tr><tr><th>15</th><td>2.96506e8</td><td>1.17758e8</td><td>11408.2</td><td>253.447</td><td>2302.07</td></tr><tr><th>16</th><td>2.96497e8</td><td>1.1775e8</td><td>11342.5</td><td>247.249</td><td>2304.85</td></tr><tr><th>17</th><td>2.96488e8</td><td>1.17741e8</td><td>11268.0</td><td>239.884</td><td>2309.93</td></tr><tr><th>18</th><td>2.96478e8</td><td>1.17732e8</td><td>11182.9</td><td>232.973</td><td>2319.09</td></tr><tr><th>19</th><td>2.96469e8</td><td>1.17723e8</td><td>11098.4</td><td>226.285</td><td>2327.38</td></tr><tr><th>20</th><td>2.9646e8</td><td>1.17715e8</td><td>11018.9</td><td>220.51</td><td>2332.81</td></tr><tr><th>21</th><td>2.96451e8</td><td>1.17707e8</td><td>10946.3</td><td>216.492</td><td>2335.2</td></tr><tr><th>22</th><td>2.96442e8</td><td>1.177e8</td><td>10884.3</td><td>214.558</td><td>2334.05</td></tr><tr><th>23</th><td>2.96434e8</td><td>1.17693e8</td><td>10839.8</td><td>214.189</td><td>2328.1</td></tr><tr><th>24</th><td>2.96427e8</td><td>1.17687e8</td><td>10814.5</td><td>215.268</td><td>2318.89</td></tr><tr><th>25</th><td>2.9642e8</td><td>1.17683e8</td><td>10806.9</td><td>217.785</td><td>2309.64</td></tr><tr><th>26</th><td>2.96413e8</td><td>1.17679e8</td><td>10817.1</td><td>221.245</td><td>2302.07</td></tr><tr><th>27</th><td>2.96408e8</td><td>1.17677e8</td><td>10842.4</td><td>225.317</td><td>2298.12</td></tr><tr><th>28</th><td>2.96402e8</td><td>1.17676e8</td><td>10881.0</td><td>229.441</td><td>2297.84</td></tr><tr><th>29</th><td>2.96398e8</td><td>1.17675e8</td><td>10931.1</td><td>233.152</td><td>2300.33</td></tr><tr><th>30</th><td>2.96394e8</td><td>1.17676e8</td><td>10984.5</td><td>236.903</td><td>2306.9</td></tr><tr><th>&vellip;</th><td>&vellip;</td><td>&vellip;</td><td>&vellip;</td><td>&vellip;</td><td>&vellip;</td></tr></tbody></table>"
      ],
      "text/latex": [
       "\\begin{tabular}{r|cccccc}\n",
       "\t& Oz\\_freq\\_0Hz & Oz\\_freq\\_0\\_9765625Hz & Oz\\_freq\\_1\\_953125Hz & Oz\\_freq\\_2\\_929688Hz & Oz\\_freq\\_3\\_90625Hz & \\\\\n",
       "\t\\hline\n",
       "\t& Float64 & Float64 & Float64 & Float64 & Float64 & \\\\\n",
       "\t\\hline\n",
       "\t1 & 2.96607e8 & 1.17803e8 & 11148.5 & 213.96 & 2336.42 & $\\dots$ \\\\\n",
       "\t2 & 2.96603e8 & 1.17803e8 & 11154.7 & 211.555 & 2340.26 & $\\dots$ \\\\\n",
       "\t3 & 2.96599e8 & 1.17803e8 & 11175.0 & 211.271 & 2338.25 & $\\dots$ \\\\\n",
       "\t4 & 2.96594e8 & 1.17802e8 & 11206.9 & 213.427 & 2332.51 & $\\dots$ \\\\\n",
       "\t5 & 2.96588e8 & 1.17802e8 & 11249.5 & 217.809 & 2324.85 & $\\dots$ \\\\\n",
       "\t6 & 2.96582e8 & 1.178e8 & 11299.6 & 223.96 & 2317.49 & $\\dots$ \\\\\n",
       "\t7 & 2.96575e8 & 1.17798e8 & 11356.0 & 230.965 & 2310.92 & $\\dots$ \\\\\n",
       "\t8 & 2.96568e8 & 1.17796e8 & 11406.7 & 239.1 & 2308.89 & $\\dots$ \\\\\n",
       "\t9 & 2.9656e8 & 1.17793e8 & 11452.2 & 246.736 & 2308.4 & $\\dots$ \\\\\n",
       "\t10 & 2.96552e8 & 1.17789e8 & 11489.9 & 252.802 & 2307.28 & $\\dots$ \\\\\n",
       "\t11 & 2.96544e8 & 1.17785e8 & 11511.2 & 257.356 & 2306.31 & $\\dots$ \\\\\n",
       "\t12 & 2.96535e8 & 1.17779e8 & 11512.9 & 259.998 & 2305.23 & $\\dots$ \\\\\n",
       "\t13 & 2.96526e8 & 1.17773e8 & 11499.2 & 259.698 & 2301.85 & $\\dots$ \\\\\n",
       "\t14 & 2.96516e8 & 1.17766e8 & 11462.6 & 257.579 & 2300.83 & $\\dots$ \\\\\n",
       "\t15 & 2.96506e8 & 1.17758e8 & 11408.2 & 253.447 & 2302.07 & $\\dots$ \\\\\n",
       "\t16 & 2.96497e8 & 1.1775e8 & 11342.5 & 247.249 & 2304.85 & $\\dots$ \\\\\n",
       "\t17 & 2.96488e8 & 1.17741e8 & 11268.0 & 239.884 & 2309.93 & $\\dots$ \\\\\n",
       "\t18 & 2.96478e8 & 1.17732e8 & 11182.9 & 232.973 & 2319.09 & $\\dots$ \\\\\n",
       "\t19 & 2.96469e8 & 1.17723e8 & 11098.4 & 226.285 & 2327.38 & $\\dots$ \\\\\n",
       "\t20 & 2.9646e8 & 1.17715e8 & 11018.9 & 220.51 & 2332.81 & $\\dots$ \\\\\n",
       "\t21 & 2.96451e8 & 1.17707e8 & 10946.3 & 216.492 & 2335.2 & $\\dots$ \\\\\n",
       "\t22 & 2.96442e8 & 1.177e8 & 10884.3 & 214.558 & 2334.05 & $\\dots$ \\\\\n",
       "\t23 & 2.96434e8 & 1.17693e8 & 10839.8 & 214.189 & 2328.1 & $\\dots$ \\\\\n",
       "\t24 & 2.96427e8 & 1.17687e8 & 10814.5 & 215.268 & 2318.89 & $\\dots$ \\\\\n",
       "\t25 & 2.9642e8 & 1.17683e8 & 10806.9 & 217.785 & 2309.64 & $\\dots$ \\\\\n",
       "\t26 & 2.96413e8 & 1.17679e8 & 10817.1 & 221.245 & 2302.07 & $\\dots$ \\\\\n",
       "\t27 & 2.96408e8 & 1.17677e8 & 10842.4 & 225.317 & 2298.12 & $\\dots$ \\\\\n",
       "\t28 & 2.96402e8 & 1.17676e8 & 10881.0 & 229.441 & 2297.84 & $\\dots$ \\\\\n",
       "\t29 & 2.96398e8 & 1.17675e8 & 10931.1 & 233.152 & 2300.33 & $\\dots$ \\\\\n",
       "\t30 & 2.96394e8 & 1.17676e8 & 10984.5 & 236.903 & 2306.9 & $\\dots$ \\\\\n",
       "\t$\\dots$ & $\\dots$ & $\\dots$ & $\\dots$ & $\\dots$ & $\\dots$ &  \\\\\n",
       "\\end{tabular}\n"
      ],
      "text/plain": [
       "\u001b[1m33094×263 DataFrame\u001b[0m\n",
       "\u001b[1m   Row \u001b[0m│\u001b[1m Oz_freq_0Hz \u001b[0m\u001b[1m Oz_freq_0_9765625Hz \u001b[0m\u001b[1m Oz_freq_1_953125Hz \u001b[0m\u001b[1m Oz_freq_2_92968\u001b[0m ⋯\n",
       "\u001b[1m       \u001b[0m│\u001b[90m Float64     \u001b[0m\u001b[90m Float64             \u001b[0m\u001b[90m Float64            \u001b[0m\u001b[90m Float64        \u001b[0m ⋯\n",
       "───────┼────────────────────────────────────────────────────────────────────────\n",
       "     1 │   2.96607e8            1.17803e8            11148.5             213.9 ⋯\n",
       "     2 │   2.96603e8            1.17803e8            11154.7             211.5\n",
       "     3 │   2.96599e8            1.17803e8            11175.0             211.2\n",
       "     4 │   2.96594e8            1.17802e8            11206.9             213.4\n",
       "     5 │   2.96588e8            1.17802e8            11249.5             217.8 ⋯\n",
       "     6 │   2.96582e8            1.178e8              11299.6             223.9\n",
       "     7 │   2.96575e8            1.17798e8            11356.0             230.9\n",
       "     8 │   2.96568e8            1.17796e8            11406.7             239.1\n",
       "     9 │   2.9656e8             1.17793e8            11452.2             246.7 ⋯\n",
       "    10 │   2.96552e8            1.17789e8            11489.9             252.8\n",
       "    11 │   2.96544e8            1.17785e8            11511.2             257.3\n",
       "   ⋮   │      ⋮                ⋮                   ⋮                   ⋮       ⋱\n",
       " 33085 │   1.27056e8            5.04735e7             4958.23            109.2\n",
       " 33086 │   1.27061e8            5.04745e7             4959.36            111.7 ⋯\n",
       " 33087 │   1.27065e8            5.0475e7              4954.45            113.1\n",
       " 33088 │   1.27068e8            5.04751e7             4943.81            113.1\n",
       " 33089 │   1.27071e8            5.04748e7             4926.9             111.7\n",
       " 33090 │   1.27074e8            5.04741e7             4905.11            109.0 ⋯\n",
       " 33091 │   1.27077e8            5.04731e7             4879.28            105.4\n",
       " 33092 │   1.2708e8             5.04718e7             4851.49            101.4\n",
       " 33093 │   1.27082e8            5.04704e7             4821.85             97.7\n",
       " 33094 │   1.27084e8            5.04688e7             4794.24             94.5 ⋯\n",
       "\u001b[36m                                              260 columns and 33073 rows omitted\u001b[0m"
      ]
     },
     "execution_count": 48,
     "metadata": {},
     "output_type": "execute_result"
    }
   ],
   "source": [
    "Oz_path = \"./data/Oz.csv\"\n",
    "Oz_csv = CSV.File(Oz_path)\n",
    "Oz_df = DataFrame(Oz_csv)"
   ]
  },
  {
   "cell_type": "code",
   "execution_count": 55,
   "metadata": {},
   "outputs": [
    {
     "data": {
      "text/html": [
       "<table class=\"data-frame\"><thead><tr><th></th><th>Oz_freq_0Hz</th><th>Oz_freq_0_9765625Hz</th><th>Oz_freq_1_953125Hz</th><th>Oz_freq_2_929688Hz</th><th>Oz_freq_3_90625Hz</th></tr><tr><th></th><th>Float64</th><th>Float64</th><th>Float64</th><th>Float64</th><th>Float64</th></tr></thead><tbody><p>33,094 rows × 257 columns (omitted printing of 252 columns)</p><tr><th>1</th><td>2.96607e8</td><td>1.17803e8</td><td>11148.5</td><td>213.96</td><td>2336.42</td></tr><tr><th>2</th><td>2.96603e8</td><td>1.17803e8</td><td>11154.7</td><td>211.555</td><td>2340.26</td></tr><tr><th>3</th><td>2.96599e8</td><td>1.17803e8</td><td>11175.0</td><td>211.271</td><td>2338.25</td></tr><tr><th>4</th><td>2.96594e8</td><td>1.17802e8</td><td>11206.9</td><td>213.427</td><td>2332.51</td></tr><tr><th>5</th><td>2.96588e8</td><td>1.17802e8</td><td>11249.5</td><td>217.809</td><td>2324.85</td></tr><tr><th>6</th><td>2.96582e8</td><td>1.178e8</td><td>11299.6</td><td>223.96</td><td>2317.49</td></tr><tr><th>7</th><td>2.96575e8</td><td>1.17798e8</td><td>11356.0</td><td>230.965</td><td>2310.92</td></tr><tr><th>8</th><td>2.96568e8</td><td>1.17796e8</td><td>11406.7</td><td>239.1</td><td>2308.89</td></tr><tr><th>9</th><td>2.9656e8</td><td>1.17793e8</td><td>11452.2</td><td>246.736</td><td>2308.4</td></tr><tr><th>10</th><td>2.96552e8</td><td>1.17789e8</td><td>11489.9</td><td>252.802</td><td>2307.28</td></tr><tr><th>11</th><td>2.96544e8</td><td>1.17785e8</td><td>11511.2</td><td>257.356</td><td>2306.31</td></tr><tr><th>12</th><td>2.96535e8</td><td>1.17779e8</td><td>11512.9</td><td>259.998</td><td>2305.23</td></tr><tr><th>13</th><td>2.96526e8</td><td>1.17773e8</td><td>11499.2</td><td>259.698</td><td>2301.85</td></tr><tr><th>14</th><td>2.96516e8</td><td>1.17766e8</td><td>11462.6</td><td>257.579</td><td>2300.83</td></tr><tr><th>15</th><td>2.96506e8</td><td>1.17758e8</td><td>11408.2</td><td>253.447</td><td>2302.07</td></tr><tr><th>16</th><td>2.96497e8</td><td>1.1775e8</td><td>11342.5</td><td>247.249</td><td>2304.85</td></tr><tr><th>17</th><td>2.96488e8</td><td>1.17741e8</td><td>11268.0</td><td>239.884</td><td>2309.93</td></tr><tr><th>18</th><td>2.96478e8</td><td>1.17732e8</td><td>11182.9</td><td>232.973</td><td>2319.09</td></tr><tr><th>19</th><td>2.96469e8</td><td>1.17723e8</td><td>11098.4</td><td>226.285</td><td>2327.38</td></tr><tr><th>20</th><td>2.9646e8</td><td>1.17715e8</td><td>11018.9</td><td>220.51</td><td>2332.81</td></tr><tr><th>21</th><td>2.96451e8</td><td>1.17707e8</td><td>10946.3</td><td>216.492</td><td>2335.2</td></tr><tr><th>22</th><td>2.96442e8</td><td>1.177e8</td><td>10884.3</td><td>214.558</td><td>2334.05</td></tr><tr><th>23</th><td>2.96434e8</td><td>1.17693e8</td><td>10839.8</td><td>214.189</td><td>2328.1</td></tr><tr><th>24</th><td>2.96427e8</td><td>1.17687e8</td><td>10814.5</td><td>215.268</td><td>2318.89</td></tr><tr><th>25</th><td>2.9642e8</td><td>1.17683e8</td><td>10806.9</td><td>217.785</td><td>2309.64</td></tr><tr><th>26</th><td>2.96413e8</td><td>1.17679e8</td><td>10817.1</td><td>221.245</td><td>2302.07</td></tr><tr><th>27</th><td>2.96408e8</td><td>1.17677e8</td><td>10842.4</td><td>225.317</td><td>2298.12</td></tr><tr><th>28</th><td>2.96402e8</td><td>1.17676e8</td><td>10881.0</td><td>229.441</td><td>2297.84</td></tr><tr><th>29</th><td>2.96398e8</td><td>1.17675e8</td><td>10931.1</td><td>233.152</td><td>2300.33</td></tr><tr><th>30</th><td>2.96394e8</td><td>1.17676e8</td><td>10984.5</td><td>236.903</td><td>2306.9</td></tr><tr><th>&vellip;</th><td>&vellip;</td><td>&vellip;</td><td>&vellip;</td><td>&vellip;</td><td>&vellip;</td></tr></tbody></table>"
      ],
      "text/latex": [
       "\\begin{tabular}{r|cccccc}\n",
       "\t& Oz\\_freq\\_0Hz & Oz\\_freq\\_0\\_9765625Hz & Oz\\_freq\\_1\\_953125Hz & Oz\\_freq\\_2\\_929688Hz & Oz\\_freq\\_3\\_90625Hz & \\\\\n",
       "\t\\hline\n",
       "\t& Float64 & Float64 & Float64 & Float64 & Float64 & \\\\\n",
       "\t\\hline\n",
       "\t1 & 2.96607e8 & 1.17803e8 & 11148.5 & 213.96 & 2336.42 & $\\dots$ \\\\\n",
       "\t2 & 2.96603e8 & 1.17803e8 & 11154.7 & 211.555 & 2340.26 & $\\dots$ \\\\\n",
       "\t3 & 2.96599e8 & 1.17803e8 & 11175.0 & 211.271 & 2338.25 & $\\dots$ \\\\\n",
       "\t4 & 2.96594e8 & 1.17802e8 & 11206.9 & 213.427 & 2332.51 & $\\dots$ \\\\\n",
       "\t5 & 2.96588e8 & 1.17802e8 & 11249.5 & 217.809 & 2324.85 & $\\dots$ \\\\\n",
       "\t6 & 2.96582e8 & 1.178e8 & 11299.6 & 223.96 & 2317.49 & $\\dots$ \\\\\n",
       "\t7 & 2.96575e8 & 1.17798e8 & 11356.0 & 230.965 & 2310.92 & $\\dots$ \\\\\n",
       "\t8 & 2.96568e8 & 1.17796e8 & 11406.7 & 239.1 & 2308.89 & $\\dots$ \\\\\n",
       "\t9 & 2.9656e8 & 1.17793e8 & 11452.2 & 246.736 & 2308.4 & $\\dots$ \\\\\n",
       "\t10 & 2.96552e8 & 1.17789e8 & 11489.9 & 252.802 & 2307.28 & $\\dots$ \\\\\n",
       "\t11 & 2.96544e8 & 1.17785e8 & 11511.2 & 257.356 & 2306.31 & $\\dots$ \\\\\n",
       "\t12 & 2.96535e8 & 1.17779e8 & 11512.9 & 259.998 & 2305.23 & $\\dots$ \\\\\n",
       "\t13 & 2.96526e8 & 1.17773e8 & 11499.2 & 259.698 & 2301.85 & $\\dots$ \\\\\n",
       "\t14 & 2.96516e8 & 1.17766e8 & 11462.6 & 257.579 & 2300.83 & $\\dots$ \\\\\n",
       "\t15 & 2.96506e8 & 1.17758e8 & 11408.2 & 253.447 & 2302.07 & $\\dots$ \\\\\n",
       "\t16 & 2.96497e8 & 1.1775e8 & 11342.5 & 247.249 & 2304.85 & $\\dots$ \\\\\n",
       "\t17 & 2.96488e8 & 1.17741e8 & 11268.0 & 239.884 & 2309.93 & $\\dots$ \\\\\n",
       "\t18 & 2.96478e8 & 1.17732e8 & 11182.9 & 232.973 & 2319.09 & $\\dots$ \\\\\n",
       "\t19 & 2.96469e8 & 1.17723e8 & 11098.4 & 226.285 & 2327.38 & $\\dots$ \\\\\n",
       "\t20 & 2.9646e8 & 1.17715e8 & 11018.9 & 220.51 & 2332.81 & $\\dots$ \\\\\n",
       "\t21 & 2.96451e8 & 1.17707e8 & 10946.3 & 216.492 & 2335.2 & $\\dots$ \\\\\n",
       "\t22 & 2.96442e8 & 1.177e8 & 10884.3 & 214.558 & 2334.05 & $\\dots$ \\\\\n",
       "\t23 & 2.96434e8 & 1.17693e8 & 10839.8 & 214.189 & 2328.1 & $\\dots$ \\\\\n",
       "\t24 & 2.96427e8 & 1.17687e8 & 10814.5 & 215.268 & 2318.89 & $\\dots$ \\\\\n",
       "\t25 & 2.9642e8 & 1.17683e8 & 10806.9 & 217.785 & 2309.64 & $\\dots$ \\\\\n",
       "\t26 & 2.96413e8 & 1.17679e8 & 10817.1 & 221.245 & 2302.07 & $\\dots$ \\\\\n",
       "\t27 & 2.96408e8 & 1.17677e8 & 10842.4 & 225.317 & 2298.12 & $\\dots$ \\\\\n",
       "\t28 & 2.96402e8 & 1.17676e8 & 10881.0 & 229.441 & 2297.84 & $\\dots$ \\\\\n",
       "\t29 & 2.96398e8 & 1.17675e8 & 10931.1 & 233.152 & 2300.33 & $\\dots$ \\\\\n",
       "\t30 & 2.96394e8 & 1.17676e8 & 10984.5 & 236.903 & 2306.9 & $\\dots$ \\\\\n",
       "\t$\\dots$ & $\\dots$ & $\\dots$ & $\\dots$ & $\\dots$ & $\\dots$ &  \\\\\n",
       "\\end{tabular}\n"
      ],
      "text/plain": [
       "\u001b[1m33094×257 DataFrame\u001b[0m\n",
       "\u001b[1m   Row \u001b[0m│\u001b[1m Oz_freq_0Hz \u001b[0m\u001b[1m Oz_freq_0_9765625Hz \u001b[0m\u001b[1m Oz_freq_1_953125Hz \u001b[0m\u001b[1m Oz_freq_2_92968\u001b[0m ⋯\n",
       "\u001b[1m       \u001b[0m│\u001b[90m Float64     \u001b[0m\u001b[90m Float64             \u001b[0m\u001b[90m Float64            \u001b[0m\u001b[90m Float64        \u001b[0m ⋯\n",
       "───────┼────────────────────────────────────────────────────────────────────────\n",
       "     1 │   2.96607e8            1.17803e8            11148.5             213.9 ⋯\n",
       "     2 │   2.96603e8            1.17803e8            11154.7             211.5\n",
       "     3 │   2.96599e8            1.17803e8            11175.0             211.2\n",
       "     4 │   2.96594e8            1.17802e8            11206.9             213.4\n",
       "     5 │   2.96588e8            1.17802e8            11249.5             217.8 ⋯\n",
       "     6 │   2.96582e8            1.178e8              11299.6             223.9\n",
       "     7 │   2.96575e8            1.17798e8            11356.0             230.9\n",
       "     8 │   2.96568e8            1.17796e8            11406.7             239.1\n",
       "     9 │   2.9656e8             1.17793e8            11452.2             246.7 ⋯\n",
       "    10 │   2.96552e8            1.17789e8            11489.9             252.8\n",
       "    11 │   2.96544e8            1.17785e8            11511.2             257.3\n",
       "   ⋮   │      ⋮                ⋮                   ⋮                   ⋮       ⋱\n",
       " 33085 │   1.27056e8            5.04735e7             4958.23            109.2\n",
       " 33086 │   1.27061e8            5.04745e7             4959.36            111.7 ⋯\n",
       " 33087 │   1.27065e8            5.0475e7              4954.45            113.1\n",
       " 33088 │   1.27068e8            5.04751e7             4943.81            113.1\n",
       " 33089 │   1.27071e8            5.04748e7             4926.9             111.7\n",
       " 33090 │   1.27074e8            5.04741e7             4905.11            109.0 ⋯\n",
       " 33091 │   1.27077e8            5.04731e7             4879.28            105.4\n",
       " 33092 │   1.2708e8             5.04718e7             4851.49            101.4\n",
       " 33093 │   1.27082e8            5.04704e7             4821.85             97.7\n",
       " 33094 │   1.27084e8            5.04688e7             4794.24             94.5 ⋯\n",
       "\u001b[36m                                              254 columns and 33073 rows omitted\u001b[0m"
      ]
     },
     "execution_count": 55,
     "metadata": {},
     "output_type": "execute_result"
    }
   ],
   "source": [
    "Oz_data = Oz_df[:, Between(:Oz_freq_0Hz,:Oz_freq_250Hz)]"
   ]
  },
  {
   "cell_type": "code",
   "execution_count": null,
   "metadata": {},
   "outputs": [],
   "source": []
  }
 ],
 "metadata": {
  "kernelspec": {
   "display_name": "Julia 1.6.0",
   "language": "julia",
   "name": "julia-1.6"
  },
  "language_info": {
   "file_extension": ".jl",
   "mimetype": "application/julia",
   "name": "julia",
   "version": "1.6.0"
  }
 },
 "nbformat": 4,
 "nbformat_minor": 2
}
